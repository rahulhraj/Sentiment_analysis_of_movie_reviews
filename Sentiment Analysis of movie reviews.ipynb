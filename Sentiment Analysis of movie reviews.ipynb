{
 "cells": [
  {
   "attachments": {},
   "cell_type": "markdown",
   "metadata": {},
   "source": [
    "# Sentiment Analysis"
   ]
  },
  {
   "attachments": {},
   "cell_type": "markdown",
   "metadata": {},
   "source": [
    "In this project we will analyse movie reviews and try to predict the sentiment of those reviews. We will be looking at the following models and try to find the one with the highest accuracy score:\n",
    "\n",
    "* Naive Bayes\n",
    "* Support Vector Machines\n",
    "* K Nearest Neighbors\n",
    "* Logistic Regression"
   ]
  },
  {
   "attachments": {},
   "cell_type": "markdown",
   "metadata": {},
   "source": [
    "Import the required modules"
   ]
  },
  {
   "cell_type": "code",
   "execution_count": 27,
   "metadata": {},
   "outputs": [],
   "source": [
    "import pandas as pd\n",
    "from sklearn import metrics\n",
    "from sklearn.model_selection import train_test_split\n",
    "from sklearn.feature_extraction.text import CountVectorizer\n",
    "from sklearn.svm import LinearSVC\n",
    "from sklearn.naive_bayes import MultinomialNB\n",
    "from sklearn.linear_model import LogisticRegression\n",
    "from sklearn.neighbors import KNeighborsClassifier"
   ]
  },
  {
   "attachments": {},
   "cell_type": "markdown",
   "metadata": {},
   "source": [
    "We will now read the data file"
   ]
  },
  {
   "cell_type": "code",
   "execution_count": 28,
   "metadata": {},
   "outputs": [],
   "source": [
    "data=pd.read_table('opinions.tsv',header=None,skiprows=1,names=['Sentiment','Reviews'])\n",
    "X=data.Reviews\n",
    "y=data.Sentiment"
   ]
  },
  {
   "attachments": {},
   "cell_type": "markdown",
   "metadata": {},
   "source": [
    "Now use the CountVectorizer to convert text into tokens"
   ]
  },
  {
   "cell_type": "code",
   "execution_count": 29,
   "metadata": {},
   "outputs": [],
   "source": [
    "v=CountVectorizer(stop_words='english',ngram_range=(1,1),max_df=.80,min_df=4)\n",
    "X_train,X_test,y_train,y_test=train_test_split(X,y,random_state=1,test_size=0.2)\n",
    "v.fit(X_train)\n",
    "X_train_dtm=v.transform(X_train)\n",
    "X_test_dtm=v.transform(X_test)"
   ]
  },
  {
   "attachments": {},
   "cell_type": "markdown",
   "metadata": {},
   "source": [
    "**Testing the Naive Bayes model**"
   ]
  },
  {
   "cell_type": "code",
   "execution_count": 30,
   "metadata": {},
   "outputs": [
    {
     "name": "stdout",
     "output_type": "stream",
     "text": [
      "\n",
      "Naive Bayes\n",
      "Accuracy Score: 98.91618497109826%\n",
      "Confusion Matrix: \n",
      "[[586  12]\n",
      " [  3 783]]\n"
     ]
    }
   ],
   "source": [
    "NB=MultinomialNB()\n",
    "NB.fit(X_train_dtm,y_train)\n",
    "y_pred=NB.predict(X_test_dtm)\n",
    "print('\\nNaive Bayes')\n",
    "print('Accuracy Score: ',metrics.accuracy_score(y_test,y_pred)*100,'%',sep='')\n",
    "print('Confusion Matrix: ',metrics.confusion_matrix(y_test,y_pred),sep='\\n')"
   ]
  },
  {
   "attachments": {},
   "cell_type": "markdown",
   "metadata": {},
   "source": [
    "**Testing the Logistic Regression model**"
   ]
  },
  {
   "cell_type": "code",
   "execution_count": 31,
   "metadata": {},
   "outputs": [
    {
     "name": "stdout",
     "output_type": "stream",
     "text": [
      "\n",
      "Logistic Regression\n",
      "Accuracy Score: 99.34971098265896%\n",
      "Confusion Matrix: \n",
      "[[593   5]\n",
      " [  4 782]]\n"
     ]
    }
   ],
   "source": [
    "LR=LogisticRegression()\n",
    "LR.fit(X_train_dtm,y_train)\n",
    "y_pred=LR.predict(X_test_dtm)\n",
    "print('\\nLogistic Regression')\n",
    "print('Accuracy Score: ', metrics.accuracy_score(y_test,y_pred)*100,'%',sep='')\n",
    "print('Confusion Matrix: ',metrics.confusion_matrix(y_test,y_pred),sep='\\n')"
   ]
  },
  {
   "attachments": {},
   "cell_type": "markdown",
   "metadata": {},
   "source": [
    "**Testing the SVM model**"
   ]
  },
  {
   "cell_type": "code",
   "execution_count": 32,
   "metadata": {},
   "outputs": [
    {
     "name": "stdout",
     "output_type": "stream",
     "text": [
      "\n",
      "Support Vector Machine\n",
      "Accuracy Score: 99.0606936416185%\n",
      "Confusion Matrix :\n",
      "[[592   6]\n",
      " [  7 779]]\n"
     ]
    }
   ],
   "source": [
    "SVM=LinearSVC()\n",
    "SVM.fit(X_train_dtm,y_train)\n",
    "y_pred=SVM.predict(X_test_dtm)\n",
    "print('\\nSupport Vector Machine')\n",
    "print('Accuracy Score: ',metrics.accuracy_score(y_test,y_pred)*100,'%',sep='')\n",
    "print('Confusion Matrix :',metrics.confusion_matrix(y_test,y_pred),sep='\\n')"
   ]
  },
  {
   "attachments": {},
   "cell_type": "markdown",
   "metadata": {},
   "source": [
    "**Testing the K Nearest Neighbors model**"
   ]
  },
  {
   "cell_type": "code",
   "execution_count": 33,
   "metadata": {},
   "outputs": [
    {
     "name": "stdout",
     "output_type": "stream",
     "text": [
      "\n",
      "K Nearest Neighbor\n",
      "Accuracy Score :98.48265895953757%\n",
      "Confusion Matrix: \n",
      "[[585  13]\n",
      " [  8 778]]\n"
     ]
    }
   ],
   "source": [
    "KNN=KNeighborsClassifier()\n",
    "KNN.fit(X_train_dtm,y_train)\n",
    "y_pred=KNN.predict(X_test_dtm)\n",
    "print('\\nK Nearest Neighbor')\n",
    "print('Accuracy Score :',metrics.accuracy_score(y_test,y_pred)*100,'%',sep='')\n",
    "print('Confusion Matrix: ',metrics.confusion_matrix(y_test,y_pred),sep='\\n')"
   ]
  },
  {
   "attachments": {},
   "cell_type": "markdown",
   "metadata": {},
   "source": [
    "Here we see that the logistic regression model has the highest accuracy out of all the models. We will now use this model to predict the output on custom inputs."
   ]
  },
  {
   "cell_type": "code",
   "execution_count": 34,
   "metadata": {},
   "outputs": [
    {
     "name": "stdout",
     "output_type": "stream",
     "text": [
      "Enter review to be analysed  The predicted review is  Negative\n"
     ]
    }
   ],
   "source": [
    "trainingVector=CountVectorizer(stop_words='english',ngram_range=(1,1),max_df=.80,min_df=5)\n",
    "trainingVector.fit(X)\n",
    "X_dtm=trainingVector.transform(X)\n",
    "LR_complete=LogisticRegression()\n",
    "LR_complete.fit(X_dtm,y)\n",
    "\n",
    "print(\"Enter review to be analysed \",end=\" \")\n",
    "test=[]\n",
    "test.append(input())\n",
    "test_dtm=trainingVector.transform(test)\n",
    "predLabel=LR_complete.predict(test_dtm)\n",
    "tags=['Negative','Positive']\n",
    "print(\"The predicted review is \",tags[predLabel[0]])"
   ]
  }
 ],
 "metadata": {
  "kernelspec": {
   "display_name": "Python 3",
   "language": "python",
   "name": "python3"
  },
  "language_info": {
   "codemirror_mode": {
    "name": "ipython",
    "version": 3
   },
   "file_extension": ".py",
   "mimetype": "text/x-python",
   "name": "python",
   "nbconvert_exporter": "python",
   "pygments_lexer": "ipython3",
   "version": "3.11.4"
  },
  "orig_nbformat": 4
 },
 "nbformat": 4,
 "nbformat_minor": 2
}
